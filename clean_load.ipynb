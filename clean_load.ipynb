{
 "nbformat": 4,
 "nbformat_minor": 2,
 "metadata": {
  "language_info": {
   "name": "python",
   "codemirror_mode": {
    "name": "ipython",
    "version": 3
   },
   "version": "3.7.3-final"
  },
  "orig_nbformat": 2,
  "file_extension": ".py",
  "mimetype": "text/x-python",
  "name": "python",
  "npconvert_exporter": "python",
  "pygments_lexer": "ipython3",
  "version": 3,
  "kernelspec": {
   "name": "python37364bitbasecondad1a2dd90d65d4da8b31384c2cd850807",
   "display_name": "Python 3.7.3 64-bit ('base': conda)"
  }
 },
 "cells": [
  {
   "cell_type": "code",
   "execution_count": 1,
   "metadata": {},
   "outputs": [],
   "source": [
    "import pandas as pd\n",
    "from pandas.io.json import json_normalize\n",
    "import json\n",
    "import numpy as np\n",
    "from sqlite3 import IntegrityError\n",
    "from sqlalchemy import create_engine\n",
    "from sqlalchemy.orm import sessionmaker\n",
    "from sqlalchemy.orm import Session\n",
    "import csv\n",
    "import requests "
   ]
  },
  {
   "cell_type": "code",
   "execution_count": null,
   "metadata": {},
   "outputs": [],
   "source": [
    "file_path_sdn = r'data/sdn.pip'\n",
    "file_path_add = r'data/add.pip'\n",
    "file_path_alt = r'data/alt.pip'\n",
    "file_path_comments = r'data/sdn_comments.pip'\n",
    "file_path_geocoded_id = r'data\\gcr_coords_final.csv'\n",
    "\n",
    "tables = ['SDN', 'add', 'alt', 'sdn_comments', 'geocoded_id']\n",
    "\n",
    "columns_sdn = ['ent_num', 'SDN_name', 'SDN_Type', 'Program', 'Title', 'Call_Sign', 'Vess_type', 'Tonnage', 'GRT', 'Vess_Flag', 'Vess_owner', 'Remarks']\n",
    "columns_add = ['ent_num', 'add_num', 'adress', 'csppc', 'country','add_remarks']\n",
    "columns_alt = ['ent_num', 'alt_num', 'alt_type', 'alt_name', 'alt_remarks']\n",
    "columns_comments = ['ent_num', 'remarks_extended']\n",
    "\n",
    "columns_geocode_id = ['ent_num', 'lat', 'lng']\n",
    "\n",
    "fp_columns = {file_path_sdn: columns_sdn,\n",
    "              file_path_add: columns_add,\n",
    "              file_path_alt: columns_alt,\n",
    "          file_path_comments: columns_comments,\n",
    "          file_path_geocoded_id: columns_geocode_id}\n",
    "\n",
    "sdn_dataframes = [pd.read_csv(kvp[0], delimiter='|', header=None, names=kvp[1], na_values = [\"-0-\"]) for kvp in fp_columns.items()]\n",
    "\n",
    "trunc_df = []\n",
    "for df in sdn_dataframes:\n",
    "   df = df[:-1]\n",
    "   trunc_df.append(df)\n",
    "\n",
    "load_dict = dict.fromkeys(tables, trunc_df)\n",
    "\n",
    ""
   ]
  },
  {
   "cell_type": "code",
   "execution_count": null,
   "metadata": {},
   "outputs": [],
   "source": [
    "trunc_df[-1]"
   ]
  },
  {
   "cell_type": "code",
   "execution_count": 2,
   "metadata": {},
   "outputs": [],
   "source": [
    "db_path = r'C:\\Users\\Juan\\bootcamp\\projects\\project_2\\dbase\\us_sdn_final.db'\n",
    "engine = create_engine(f'sqlite:///{db_path}')\n",
    ""
   ]
  },
  {
   "cell_type": "code",
   "execution_count": null,
   "metadata": {},
   "outputs": [],
   "source": [
    "'''\n",
    "for i in range(len(tables)-1):\n",
    "    num_rows = len(trunc_df[i])\n",
    "    #Iterate one row at a time\n",
    "    for j in range(num_rows):\n",
    "        try:\n",
    "            #Try inserting the row\n",
    "            trunc_df[i].iloc[j:j+1].to_sql(name=tables[i],con = engine ,if_exists = 'append', index=False)\n",
    "        except IntegrityError:\n",
    "            #Ignore duplicates\n",
    "            pass\n",
    "'''\n",
    "for i in range(len(tables)-1):\n",
    "    trunc_df[i].to_sql(tables[i], con=engine, if_exists='append', index=False)\n",
    ""
   ]
  },
  {
   "cell_type": "code",
   "execution_count": null,
   "metadata": {},
   "outputs": [],
   "source": [
    "trunc_df[-1].to_sql(tables[-1], con=engine, if_exists='append', index=False)"
   ]
  },
  {
   "cell_type": "code",
   "execution_count": 15,
   "metadata": {},
   "outputs": [
    {
     "name": "stdout",
     "output_type": "stream",
     "text": "ent_num                               SDN_Name SDN_Type Program  add_num  \\\n0      173              ANGLO-CARIBBEAN CO., LTD.     -0-     CUBA      129   \n1      735             EMPRESA CUBANA DE AVIACION     -0-     CUBA      441   \n2      735             EMPRESA CUBANA DE AVIACION     -0-     CUBA      448   \n3      751  EMPRESA CUBANA DE PESCADOS Y MARISCOS     -0-     CUBA      456   \n4      767    ETCO INTERNATIONAL COMMODITIES LTD.     -0-     CUBA      465   \n\n                                               query           region  \\\n0                           Ibex House, The Minories  London EC3N 1DY   \n1                         Dobrininskaya No. 7, Sec 5           Moscow   \n2  c/o Anglo-Caribbean Shipping Co. Ltd., Ibex Ho...  London EC3N 1DY   \n3                                               -0-            Moscow   \n4              Devonshire House, 1 Devonshire Street           London   \n\n          country  \n0  United Kingdom  \n1          Russia  \n2  United Kingdom  \n3          Russia  \n4  United Kingdom  \n"
    }
   ],
   "source": [
    "geocode_path = r'C:\\Users\\Juan\\bootcamp\\projects\\project_2\\data\\russian_addresses.csv'\n",
    "adress_df = pd.read_csv(geocode_path)\n",
    "print(adress_df.head())\n",
    "country_codes = pd.read_csv(r'C:\\Users\\Juan\\bootcamp\\projects\\project_2\\data\\positionstack-supported-countries.csv')\n",
    "address_dict = adress_df.to_dict('records')"
   ]
  },
  {
   "cell_type": "code",
   "execution_count": null,
   "metadata": {},
   "outputs": [],
   "source": []
  },
  {
   "cell_type": "code",
   "execution_count": 18,
   "metadata": {},
   "outputs": [
    {
     "data": {
      "text/plain": "ECHNOSERVICES',\n  'SDN_Type': '-0- ',\n  'Program': 'CYBER2',\n  'add_num': 37235,\n  'query': 'd. 18 korp. 2 litera A, ul. Zheleznovodskaya',\n  'region': 'St. Petersburg 199155',\n  'code': 'RU',\n  'country': 'Russia'},\n {'ent_num': 24648,\n  'SDN_Name': 'TRIBUN, Aleksandr Lvovich',\n  'SDN_Type': 'individual',\n  'Program': 'CYBER2',\n  'add_num': 37237,\n  'query': '-0- ',\n  'region': '-0- ',\n  'code': 'RU',\n  'country': 'Russia'},\n {'ent_num': 24650,\n  'SDN_Name': 'DIGITAL SECURITY',\n  'SDN_Type': '-0- ',\n  'Program': 'CYBER2',\n  'add_num': 37241,\n  'query': '-0- ',\n  'region': 'Saint Petersburg',\n  'code': 'RU',\n  'country': 'Russia'},\n {'ent_num': 24650,\n  'SDN_Name': 'DIGITAL SECURITY',\n  'SDN_Type': '-0- ',\n  'Program': 'CYBER2',\n  'add_num': 37242,\n  'query': '-0- ',\n  'region': 'Moscow',\n  'code': 'RU',\n  'country': 'Russia'},\n {'ent_num': 24651,\n  'SDN_Name': 'KAGANSKIY, Vladimir Yakovlevich',\n  'SDN_Type': 'individual',\n  'Program': 'CYBER2',\n  'add_num': 37243,\n  'query': '-0- ',\n  'region': '-0- ',\n  'code': 'RU',\n  'country': 'Russia'},\n {'ent_num': 24652,\n  'SDN_Name': 'ERPSCAN',\n  'SDN_Type': '-0- ',\n  'Program': 'CYBER2',\n  'add_num': 37245,\n  'query': '-0- ',\n  'region': '-0- ',\n  'code': 'RU',\n  'country': 'Russia'},\n {'ent_num': 24653,\n  'SDN_Name': 'EMBEDI',\n  'SDN_Type': '-0- ',\n  'Program': 'CYBER2',\n  'add_num': 37250,\n  'query': '-0- ',\n  'region': '-0- ',\n  'code': 'RU',\n  'country': 'Russia'},\n {'ent_num': 24832,\n  'SDN_Name': 'TSAREVA, Marina Igorevna',\n  'SDN_Type': 'individual',\n  'Program': 'CYBER2',\n  'add_num': 37579,\n  'query': '-0- ',\n  'region': '-0- ',\n  'code': 'RU',\n  'country': 'Russia'},\n {'ent_num': 24833,\n  'SDN_Name': 'VELA-MARINE LTD.',\n  'SDN_Type': '-0- ',\n  'Program': 'CYBER2',\n  'add_num': 37581,\n  'query': '-0- ',\n  'region': 'Saint Petersburg',\n  'code': 'RU',\n  'country': 'Russia'},\n {'ent_num': 24834,\n  'SDN_Name': 'NAGIBIN, Anton Aleksandrovich',\n  'SDN_Type': 'individual',\n  'Program': 'CYBER2',\n  'add_num': 37583,\n  'query': '-0- ',\n  'region': '-0- ',\n  'code': 'RU',\n  'country': 'Russia'},\n {'ent_num': 24978,\n  'SDN_Name': 'VOLASYS SILVER STAR',\n  'SDN_Type': '-0- ',\n  'Program': 'DPRK3] [DPRK4',\n  'add_num': 37798,\n  'query': '41 Ulitsa Klary Tsetskin',\n  'region': 'Vladivostok',\n  'code': 'RU',\n  'country': 'Russia'},\n {'ent_num': 25180,\n  'SDN_Name': 'ZARITSKY, Vladimir Nikolaevich',\n  'SDN_Type': 'individual',\n  'Program': 'UKRAINE-EO13685',\n  'add_num': 38142,\n  'query': '-0- ',\n  'region': '-0- ',\n  'code': 'RU',\n  'country': 'Russia'},\n {'ent_num': 25419,\n  'SDN_Name': 'MB BANK',\n  'SDN_Type': '-0- ',\n  'Program': 'SDGT] [SYRIA] [IFSR',\n  'add_num': 38431,\n  'query': '9/1 ul Mashkova',\n  'region': 'Moscow 105062',\n  'code': 'RU',\n  'country': 'Russia'},\n {'ent_num': 25691,\n  'SDN_Name': 'LIMITED LIABILITY COMPANY SOUTHERN PROJECT',\n  'SDN_Type': '-0- ',\n  'Program': 'UKRAINE-EO13661] [UKRAINE-EO13685',\n  'add_num': 38894,\n  'query': 'Room 15-H, Litera A, House 2, Rastrelli Place',\n  'region': 'City of St. Petersburg 191124',\n  'code': 'RU',\n  'country': 'Russia'},\n {'ent_num': 26118,\n  'SDN_Name': 'PROMSYRIOIMPORT',\n  'SDN_Type': '-0- ',\n  'Program': 'SYRIA',\n  'add_num': 39572,\n  'query': 'd. 13 str. 4, bulvar Novinski',\n  'region': 'Moscow 121099',\n  'code': 'RU',\n  'country': 'Russia'},\n {'ent_num': 26118,\n  'SDN_Name': 'PROMSYRIOIMPORT',\n  'SDN_Type': '-0- ',\n  'Program': 'SYRIA',\n  'add_num': 39573,\n  'query': '13 Novinski Boulevard',\n  'region': 'Moscow 121834',\n  'code': 'RU',\n  'country': 'Russia'},\n {'ent_num': 26118,\n  'SDN_Name': 'PROMSYRIOIMPORT',\n  'SDN_Type': '-0- ',\n  'Program': 'SYRIA',\n  'add_num': 39574,\n  'query': 'Novinskiy Boulevard 13, Building 4',\n  'region': 'Moscow 123995',\n  'code': 'RU',\n  'country': 'Russia'},\n {'ent_num': 26119,\n  'SDN_Name': 'GLOBAL VISION GROUP',\n  'SDN_Type': '-0- ',\n  'Program': 'SDGT] [SYRIA] [IRGC] [IFSR',\n  'add_num': 39576,\n  'query': 'Office I Room 7, Building 3, House 22, Staromonetny Lane',\n  'region': 'Moscow 119180',\n  'code': 'RU',\n  'country': 'Russia'},\n {'ent_num': 26119,\n  'SDN_Name': 'GLOBAL VISION GROUP',\n  'SDN_Type': '-0- ',\n  'Program': 'SDGT] [SYRIA] [IRGC] [IFSR',\n  'add_num': 39580,\n  'query': '-0- ',\n  'region': '-0- ',\n  'code': 'RU',\n  'country': 'Russia'},\n {'ent_num': 26119,\n  'SDN_Name': 'GLOBAL VISION GROUP',\n  'SDN_Type': '-0- ',\n  'Program': 'SDGT] [SYRIA] [IRGC] [IFSR',\n  'add_num': 39581,\n  'query': 'Staromonetne STR 22/3',\n  'region': 'Moscow',\n  'code': 'RU',\n  'country': 'Russia'},\n {'ent_num': 26118,\n  'SDN_Name': 'PROMSYRIOIMPORT',\n  'SDN_Type': '-0- ',\n  'Program': 'SYRIA',\n  'add_num': 39588,\n  'query': 'Novinsky bld. 13, build 4',\n  'region': 'Moscow 121099',\n  'code': 'RU',\n  'country': 'Russia'},\n {'ent_num': 25419,\n  'SDN_Name': 'MB BANK',\n  'SDN_Type': '-0- ',\n  'Program': 'SDGT] [SYRIA] [IFSR',\n  'add_num': 39589,\n  'query': '-0- ',\n  'region': '-0- ',\n  'code': 'RU',\n  'country': 'Russia'},\n {'ent_num': 25419,\n  'SDN_Name': 'MB BANK',\n  'SDN_Type': '-0- ',\n  'Program': 'SDGT] [SYRIA] [IFSR',\n  'add_num': 39590,\n  'query': '9/1 Mashkova St.',\n  'region': 'Moscow 105062',\n  'code': 'RU',\n  'country': 'Russia'},\n {'ent_num': 25419,\n  'SDN_Name': 'MB BANK',\n  'SDN_Type': '-0- ',\n  'Program': 'SDGT] [SYRIA] [IFSR',\n  'add_num': 39593,\n  'query': '6a Lenin Square Bld. A',\n  'region': 'Astrakhan 414000',\n  'code': 'RU',\n  'country': 'Russia'},\n {'ent_num': 26170,\n  'SDN_Name': 'MISHKIN, Alexander Yevgeniyevich',\n  'SDN_Type': 'individual',\n  'Program': 'CAATSA - RUSSIA',\n  'add_num': 39667,\n  'query': '-0- ',\n  'region': 'Moscow',\n  'code': 'RU',\n  'country': 'Russia'},\n {'ent_num': 26171,\n  'SDN_Name': 'CHEPIGA, Anatoliy Vladimirovich',\n  'SDN_Type': 'individual',\n  'Program': 'CAATSA - RUSSIA',\n  'add_num': 39669,\n  'query': '-0- ',\n  'region': 'Moscow',\n  'code': 'RU',\n  'country': 'Russia'},\n {'ent_num': 26173,\n  'SDN_Name': 'MORENETS, Aleksei Sergeyevich',\n  'SDN_Type': 'individual',\n  'Program': 'CAATSA - RUSSIA',\n  'add_num': 39672,\n  'query': '-0- ',\n  'region': '-0- ',\n  'code': 'RU',\n  'country': 'Russia'},\n {'ent_num': 26177,\n  'SDN_Name': 'SEREBRIAKOV, Evgenii Mikhaylovich',\n  'SDN_Type': 'individual',\n  'Program': 'CAATSA - RUSSIA',\n  'add_num': 39680,\n  'query': '-0- ',\n  'region': '-0- ',\n  'code': 'RU',\n  'country': 'Russia'},\n {'ent_num': 26178,\n  'SDN_Name': 'SOTNIKOV, Oleg Mikhaylovich',\n  'SDN_Type': 'individual',\n  'Program': 'CAATSA - RUSSIA',\n  'add_num': 39682,\n  'query': '-0- ',\n  'region': '-0- ',\n  'code': 'RU',\n  'country': 'Russia'},\n {'ent_num': 26179,\n  'SDN_Name': 'MININ, Alexey Valerevich',\n  'SDN_Type': 'individual',\n  'Program': 'CAATSA - RUSSIA',\n  'add_num': 39684,\n  'query': '-0- ',\n  'region': '-0- ',\n  'code': 'RU',\n  'country': 'Russia'},\n {'ent_num': 26180,\n  'SDN_Name': 'NETYKSHO, Viktor Borisovich',\n  'SDN_Type': 'individual',\n  'Program': 'CAATSA - RUSSIA',\n  'add_num': 39686,\n  'query': '-0- ',\n  'region': '-0- ',\n  'code': 'RU',\n  'country': 'Russia'},\n {'ent_num': 26183,\n  'SDN_Name': 'ANTONOV, Boris Alekseyevich',\n  'SDN_Type': 'individual',\n  'Program': 'CAATSA - RUSSIA',\n  'add_num': 39693,\n  'query': '-0- ',\n  'region': '-0- ',\n  'code': 'RU',\n  'country': 'Russia'},\n {'ent_num': 26185,\n  'SDN_Name': 'YERMAKOV, Ivan Sergeyevich',\n  'SDN_Type': 'individual',\n  'Program': 'CAATSA - RUSSIA',\n  'add_num': 39697,\n  'query': '-0- ',\n  'region': '-0- ',\n  'code': 'RU',\n  'country': 'Russia'},\n {'ent_num': 26186,\n  'SDN_Name': 'LUKASHEV, Aleksey Viktorovich',\n  'SDN_Type': 'individual',\n  'Program': 'CAATSA - RUSSIA',\n  'add_num': 39699,\n  'query': '-0- ',\n  'region': '-0- ',\n  'code': 'RU',\n  'country': 'Russia'},\n {'ent_num': 26188,\n  'SDN_Name': 'KOZACHEK, Nikolay Yuryevich',\n  'SDN_Type': 'individual',\n  'Program': 'CAATSA - RUSSIA',\n  'add_num': 39703,\n  'query': '-0- ',\n  'region': '-0- ',\n  'code': 'RU',\n  'country': 'Russia'},\n {'ent_num': 26190,\n  'SDN_Name': 'MALYSHEV, Artem Andreyevich',\n  'SDN_Type': 'individual',\n  'Program': 'CAATSA - RUSSIA',\n  'add_num': 39707,\n  'query': '-0- ',\n  'region': '-0- ',\n  'code': 'RU',\n  'country': 'Russia'},\n {'ent_num': 26191,\n  'SDN_Name': 'OSADCHUK, Aleksandr Vladimirovich',\n  'SDN_Type': 'individual',\n  'Program': 'CAATSA - RUSSIA',\n  'add_num': 39709,\n  'query': '-0- ',\n  'region': '-0- ',\n  'code': 'RU',\n  'country': 'Russia'},\n {'ent_num': 26192,\n  'SDN_Name': 'POTEMKIN, Aleksey Aleksandrovich',\n  'SDN_Type': 'individual',\n  'Program': 'CAATSA - RUSSIA',\n  'add_num': 39711,\n  'query': '-0- ',\n  'region': '-0- ',\n  'code': 'RU',\n  'country': 'Russia'},\n {'ent_num': 26193,\n  'SDN_Name': 'KOVALEV, Anatoliy Sergeyevich',\n  'SDN_Type': 'individual',\n  'Program': 'CAATSA - RUSSIA',\n  'add_num': 39713,\n  'query': '-0- ',\n  'region': '-0- ',\n  'code': 'RU',\n  'country': 'Russia'},\n {'ent_num': 26194,\n  'SDN_Name': 'BOYARKIN, Victor Alekseyevich',\n  'SDN_Type': 'individual',\n  'Program': 'UKRAINE-EO13661] [UKRAINE-EO13662',\n  'add_num': 39722,\n  'query': '#189, 20, BLD1, Generala Beloborodova',\n  'region': 'Moscow, Federal District 125222',\n  'code': 'RU',\n  'country': 'Russia'},\n {'ent_num': 26230,\n  'SDN_Name': 'NEVSKIY NEWS LLC',\n  'SDN_Type': '-0- ',\n  'Program': 'CYBER2',\n  'add_num': 39812,\n  'query': 'd. 11 korp. 2 pom. 327-N, ul. Staroderevenskaya',\n  'region': 'St. Petersburg',\n  'code': 'RU',\n  'country': 'Russia'},\n {'ent_num': 26231,\n  'SDN_Name': 'ECONOMY TODAY LLC',\n  'SDN_Type': '-0- ',\n  'Program': 'CYBER2',\n  'add_num': 39814,\n  'query': 'd. 19 Litera A. Pom. 423, Ul. Zhukova',\n  'region': 'St. Petersburg',\n  'code': 'RU',\n  'country': 'Russia'},\n {'ent_num': 26232,\n  'SDN_Name': 'FEDERAL NEWS AGENCY LLC',\n  'SDN_Type': '-0- ',\n  'Program': 'CYBER2',\n  'add_num': 39816,\n  'query': 'd. 18 litera A. pom. 2-N, UL. Vsevoloda Vishnevskogo',\n  'region': 'St. Petersburg',\n  'code': 'RU',\n  'country': 'Russia'},\n {'ent_num': 26232,\n  'SDN_Name': 'FEDERAL NEWS AGENCY LLC',\n  'SDN_Type': '-0- ',\n  'Program': 'CYBER2',\n  'add_num': 39817,\n  'query': '-0- ',\n  'region': 'Moscow',\n  'code': 'RU',\n  'country': 'Russia'},\n {'ent_num': 26233,\n  'SDN_Name': 'KHUSYAYNOVA, Elena Alekseevna',\n  'SDN_Type': 'individual',\n  'Program': 'CYBER2',\n  'add_num': 39819,\n  'query': '-0- ',\n  'region': 'St. Petersburg',\n  'code': 'RU',\n  'country': 'Russia'},\n {'ent_num': 26234,\n  'SDN_Name': 'USA REALLY',\n  'SDN_Type': '-0- ',\n  'Program': 'CYBER2',\n  'add_num': 39821,\n  'query': '-0- ',\n  'region': 'St. Petersburg',\n  'code': 'RU',\n  'country': 'Russia'},\n {'ent_num': 26234,\n  'SDN_Name': 'USA REALLY',\n  'SDN_Type': '-0- ',\n  'Program': 'CYBER2',\n  'add_num': 39822,\n  'query': '-0- ',\n  'region': 'Moscow',\n  'code': 'RU',\n  'country': 'Russia'},\n {'ent_num': 26235,\n  'SDN_Name': 'MALKEVICH, Alexander Aleksandrovich',\n  'SDN_Type': 'individual',\n  'Program': 'CYBER2',\n  'add_num': 39824,\n  'query': '-0- ',\n  'region': 'St. Petersburg',\n  'code': 'RU',\n  'country': 'Russia'},\n {'ent_num': 26503,\n  'SDN_Name': 'EVROFINANCE MOSNARBANK',\n  'SDN_Type': '-0- ',\n  'Program': 'VENEZUELA-EO13850',\n  'add_num': 40173,\n  'query': '29, ul. Novy Arbat',\n  'region': 'Moscow 121099',\n  'code': 'RU',\n  'country': 'Russia'},\n {'ent_num': 26509,\n  'SDN_Name': 'YAROSLAVSKY SHIPBUILDING PLANT',\n  'SDN_Type': '-0- ',\n  'Program': 'UKRAINE-EO13662',\n  'add_num': 40182,\n  'query': '1, Korabelnaya Str.',\n  'region': 'Yaroslavl 150006',\n  'code': 'RU',\n  'country': 'Russia'},\n {'ent_num': 26510,\n  'SDN_Name': 'ZELENODOLSK SHIPYARD PLANT NAMED AFTER A.M. GORKY',\n  'SDN_Type': '-0- ',\n  'Program': 'UKRAINE-EO13662',\n  'add_num': 40184,\n  'query': '5, Zavodskaya St.',\n  'region': 'Zelenodolsk, Republic of Tatarstan 422546',\n  'code': 'RU',\n  'country': 'Russia'},\n {'ent_num': 26512,\n  'SDN_Name': 'AO KONTSERN OKEANPRIBOR',\n  'SDN_Type': '-0- ',\n  'Program': 'UKRAINE-EO13662',\n  'add_num': 40189,\n  'query': '46, Chkalovskii Prospect',\n  'region': 'St. Petersburg 197376',\n  'code': 'RU',\n  'country': 'Russia'},\n {'ent_num': 26513,\n  'SDN_Name': 'PAO ZVEZDA',\n  'SDN_Type': '-0- ',\n  'Program': 'UKRAINE-EO13662',\n  'add_num': 40191,\n  'query': '123 Babushkina Street',\n  'region': 'St. Petersburg 192012',\n  'code': 'RU',\n  'country': 'Russia'},\n {'ent_num': 26517,\n  'SDN_Name': 'LLC NOVYE PROEKTY',\n  'SDN_Type': '-0- ',\n  'Program': 'UKRAINE-EO13685',\n  'add_num': 40196,\n  'query': 'Km Mzhd Kievsko 5-I d. 1, Str. 1, 2, Komnata 21',\n  'region': 'Moscow 121059',\n  'code': 'RU',\n  'country': 'Russia'},\n {'ent_num': 26663,\n  'SDN_Name': 'YAKUBETS, Maksim Viktorovich',\n  'SDN_Type': 'individual',\n  'Program': 'CYBER2',\n  'add_num': 40418,\n  'query': '-0- ',\n  'region': 'Moscow',\n  'code': 'RU',\n  'country': 'Russia'},\n {'ent_num': 26664,\n  'SDN_Name': 'EVIL CORP',\n  'SDN_Type': '-0- ',\n  'Program': 'CYBER2',\n  'add_num': 40420,\n  'query': '-0- ',\n  'region': 'Moscow',\n  'code': 'RU',\n  'country': 'Russia'},\n {'ent_num': 26665,\n  'SDN_Name': 'SMIRNOV, Dmitriy Konstantinovich',\n  'SDN_Type': 'individual',\n  'Program': 'CYBER2',\n  'add_num': 40423,\n  'query': '-0- ',\n  'region': 'Moscow',\n  'code': 'RU',\n  'country': 'Russia'},\n {'ent_num': 26666,\n  'SDN_Name': 'YAKUBETS, Artem Viktorovich',\n  'SDN_Type': 'individual',\n  'Program': 'CYBER2',\n  'add_num': 40425,\n  'query': '-0- ',\n  'region': 'Moscow',\n  'code': 'RU',\n  'country': 'Russia'},\n {'ent_num': 26668,\n  'SDN_Name': 'PLOTNITSKIY, Andrey',\n  'SDN_Type': 'individual',\n  'Program': 'CYBER2',\n  'add_num': 40428,\n  'query': '-0- ',\n  'region': 'Moscow',\n  'code': 'RU',\n  'country': 'Russia'},\n {'ent_num': 26670,\n  'SDN_Name': 'TURASHEV, Igor Olegovich',\n  'SDN_Type': 'individual',\n  'Program': 'CYBER2',\n  'add_num': 40431,\n  'query': '-0- ',\n  'region': '-0- ',\n  'code': 'RU',\n  'country': 'Russia'},\n {'ent_num': 26672,\n  'SDN_Name': 'BIZNES-STOLITSA, OOO',\n  'SDN_Type': '-0- ',\n  'Program': 'CYBER2',\n  'add_num': 40434,\n  'query': 'd. 14 korp. 1 pom. Khll/kom. 1, ul., Sokolovo-Meshcherskaya Moscow',\n  'region': 'Moscow 125466',\n  'code': 'RU',\n  'country': 'Russia'},\n {'ent_num': 26673,\n  'SDN_Name': 'OPTIMA, OOO',\n  'SDN_Type': '-0- ',\n  'Program': 'CYBER2',\n  'add_num': 40436,\n  'query': 'd. 2 korp. 2 pom. 1, ul., Kominterna Moscow',\n  'region': 'Moscow 129344',\n  'code': 'RU',\n  'country': 'Russia'},\n {'ent_num': 26674,\n  'SDN_Name': 'TREID-INVEST, OOO',\n  'SDN_Type': '-0- ',\n  'Program': 'CYBER2',\n  'add_num': 40438,\n  'query': '11/2, ul., Sadovaya-Chernogryazskaya Moscow',\n  'region': 'Moscow 105064',\n  'code': 'RU',\n  'country': 'Russia'},\n {'ent_num': 26678,\n  'SDN_Name': 'SLOBODSKOY, Kirill Alekseyevich',\n  'SDN_Type': 'individual',\n  'Program': 'CYBER2',\n  'add_num': 40446,\n  'query': '-0- ',\n  'region': 'Moscow',\n  'code': 'RU',\n  'country': 'Russia'},\n {'ent_num': 26680,\n  'SDN_Name': 'BASHLIKOV, Aleksei',\n  'SDN_Type': 'individual',\n  'Program': 'CYBER2',\n  'add_num': 40450,\n  'query': '-0- ',\n  'region': 'Moscow',\n  'code': 'RU',\n  'country': 'Russia'},\n {'ent_num': 26681,\n  'SDN_Name': 'ZAMULKO, Ruslan',\n  'SDN_Type': 'individual',\n  'Program': 'CYBER2',\n  'add_num': 40452,\n  'query': '-0- ',\n  'region': 'Moscow',\n  'code': 'RU',\n  'country': 'Russia'},\n {'ent_num': 26682,\n  'SDN_Name': 'GUBERMAN, David',\n  'SDN_Type': 'individual',\n  'Program': 'CYBER2',\n  'add_num': 40454,\n  'query': '-0- ',\n  'region': 'Moscow',\n  'code': 'RU',\n  'country': 'Russia'},\n {'ent_num': 26683,\n  'SDN_Name': 'ALVARES, Carlos',\n  'SDN_Type': 'individual',\n  'Program': 'CYBER2',\n  'add_num': 40456,\n  'query': '-0- ',\n  'region': 'Moscow',\n  'code': 'RU',\n  'country': 'Russia'},\n {'ent_num': 26684,\n  'SDN_Name': 'MANIDIS, Georgios',\n  'SDN_Type': 'individual',\n  'Program': 'CYBER2',\n  'add_num': 40458,\n  'query': '-0- ',\n  'region': 'Moscow',\n  'code': 'RU',\n  'country': 'Russia'},\n {'ent_num': 26685,\n  'SDN_Name': 'SHEVCHUK, Tatiana',\n  'SDN_Type': 'individual',\n  'Program': 'CYBER2',\n  'add_num': 40460,\n  'query': '-0- ',\n  'region': 'Moscow',\n  'code': 'RU',\n  'country': 'Russia'},\n {'ent_num': 26686,\n  'SDN_Name': 'SAFAROV, Azamat',\n  'SDN_Type': 'individual',\n  'Program': 'CYBER2',\n  'add_num': 40462,\n  'query': '-0- ',\n  'region': 'Moscow',\n  'code': 'RU',\n  'country': 'Russia'},\n {'ent_num': 26687,\n  'SDN_Name': 'BURKHONOVA, Gulsara',\n  'SDN_Type': 'individual',\n  'Program': 'CYBER2',\n  'add_num': 40464,\n  'query': '-0- ',\n  'region': 'Moscow',\n  'code': 'RU',\n  'country': 'Russia'},\n {'ent_num': 26725,\n  'SDN_Name': 'TEREK SPECIAL RAPID RESPONSE TEAM',\n  'SDN_Type': '-0- ',\n  'Program': 'MAGNIT',\n  'add_num': 40543,\n  'query': '-0- ',\n  'region': 'Chechen Republic',\n  'code': 'RU',\n  'country': 'Russia'},\n {'ent_num': 26744,\n  'SDN_Name': 'LIMITED LIABILITY COMPANY NON-BANK CREDIT ORGANIZATION RUSSIAN FINANCIAL SOCIETY',\n  'SDN_Type': '-0- ',\n  'Program': 'NPWMD',\n  'add_num': 40559,\n  'query': 'house 9/26, building 1, Shchipok street',\n  'region': 'Moscow 115054',\n  'code': 'RU',\n  'country': 'Russia'},\n {'ent_num': 26724,\n  'SDN_Name': 'VISMURADOV, Abuzayed',\n  'SDN_Type': 'individual',\n  'Program': 'MAGNIT',\n  'add_num': 40628,\n  'query': '-0- ',\n  'region': 'Chechen Republic',\n  'code': 'RU',\n  'country': 'Russia'},\n {'ent_num': 26723,\n  'SDN_Name': 'TRIKULYA, Elena Anatolievna',\n  'SDN_Type': 'individual',\n  'Program': 'MAGNIT',\n  'add_num': 40629,\n  'query': '-0- ',\n  'region': '-0- ',\n  'code': 'RU',\n  'country': 'Russia'},\n {'ent_num': 26722,\n  'SDN_Name': 'GEREMEYEV, Ruslan',\n  'SDN_Type': 'individual',\n  'Program': 'MAGNIT',\n  'add_num': 40654,\n  'query': '-0- ',\n  'region': '-0- ',\n  'code': 'RU',\n  'country': 'Russia'},\n {'ent_num': 23943,\n  'SDN_Name': 'INTERNET RESEARCH AGENCY LLC',\n  'SDN_Type': '-0- ',\n  'Program': 'CYBER2] [ELECTION-EO13848',\n  'add_num': 41132,\n  'query': 'd. 4 korp. 3 litera A pom. 9-N, ofis 238, ul. Optikov',\n  'region': 'St. Petersburg',\n  'code': 'RU',\n  'country': 'Russia'},\n {'ent_num': 23943,\n  'SDN_Name': 'INTERNET RESEARCH AGENCY LLC',\n  'SDN_Type': '-0- ',\n  'Program': 'CYBER2] [ELECTION-EO13848',\n  'add_num': 41133,\n  'query': 'd. 4 litera B pom. 22-N, ul. Starobelskaya',\n  'region': 'St. Petersburg',\n  'code': 'RU',\n  'country': 'Russia'},\n {'ent_num': 23943,\n  'SDN_Name': 'INTERNET RESEARCH AGENCY LLC',\n  'SDN_Type': '-0- ',\n  'Program': 'CYBER2] [ELECTION-EO13848',\n  'add_num': 41134,\n  'query': 'd. 79 litera A. pom 1-N, ul. Planernaya',\n  'region': 'St. Petersburg',\n  'code': 'RU',\n  'country': 'Russia'},\n {'ent_num': 23943,\n  'SDN_Name': 'INTERNET RESEARCH AGENCY LLC',\n  'SDN_Type': '-0- ',\n  'Program': 'CYBER2] [ELECTION-EO13848',\n  'add_num': 41135,\n  'query': '4 Optikov Street, Building 3',\n  'region': 'St. Petersburg',\n  'code': 'RU',\n  'country': 'Russia'},\n {'ent_num': 27083,\n  'SDN_Name': 'NESTEROV, Igor Vladimirovich',\n  'SDN_Type': 'individual',\n  'Program': 'ELECTION-EO13848',\n  'add_num': 41137,\n  'query': '-0- ',\n  'region': '-0- ',\n  'code': 'RU',\n  'country': 'Russia'},\n {'ent_num': 27084,\n  'SDN_Name': 'KUZMIN, Denis Igorevich',\n  'SDN_Type': 'individual',\n  'Program': 'ELECTION-EO13848',\n  'add_num': 41139,\n  'query': '-0- ',\n  'region': '-0- ',\n  'code': 'RU',\n  'country': 'Russia'},\n {'ent_num': 27143,\n  'SDN_Name': 'MARITIME ASSISTANCE LLC',\n  'SDN_Type': '-0- ',\n  'Program': 'SYRIA] [UKRAINE-EO13685',\n  'add_num': 41213,\n  'query': 'Sadovaya-Kudrinskaya street, building 32-1, office XII on 6th fl., cabinet 4d',\n  'region': 'Moscow 123001',\n  'code': 'RU',\n  'country': 'Russia'},\n {'ent_num': 26671,\n  'SDN_Name': 'GUSEV, Denis Igorevich',\n  'SDN_Type': 'individual',\n  'Program': 'CYBER2',\n  'add_num': 42092,\n  'query': '-0- ',\n  'region': 'Moscow',\n  'code': 'RU',\n  'country': 'Russia'},\n {'ent_num': 26667,\n  'SDN_Name': 'TUCHKOV, Ivan Dmitriyevich',\n  'SDN_Type': 'individual',\n  'Program': 'CYBER2',\n  'add_num': 42272,\n  'query': '-0- ',\n  'region': '-0- ',\n  'code': 'RU',\n  'country': 'Russia'},\n {'ent_num': 26669,\n  'SDN_Name': 'SLOBODSKOY, Dmitriy Alekseyevich',\n  'SDN_Type': 'individual',\n  'Program': 'CYBER2',\n  'add_num': 42273,\n  'query': '-0- ',\n  'region': '-0- ',\n  'code': 'RU',\n  'country': 'Russia'}]"
     },
     "execution_count": 18,
     "metadata": {},
     "output_type": "execute_result"
    }
   ],
   "source": [
    "# This takes my API's supported country list and takes on the matching alpha2 code. NOTE: \n",
    "merged_cc = adress_df.merge(country_codes, on='country')\n",
    "geocode_complete = merged_cc[['ent_num', 'SDN_Name', 'SDN_Type', 'Program','add_num', 'query', 'region', 'code', 'country']]\n",
    "geocode_complete = geocode_complete.to_dict('records')"
   ]
  },
  {
   "cell_type": "code",
   "execution_count": 20,
   "metadata": {},
   "outputs": [
    {
     "name": "stdout",
     "output_type": "stream",
     "text": ": 22404 :: Entity Country Code: RU\nDefault Q: adding records: 22404: 305 of 508\n305 of 508: Success!\nEntity ID: 22405 :: Entity Country Code: RU\nDefault Q: adding records: 22405: 306 of 508\n306 of 508: Success!\nEntity ID: 22555 :: Entity Country Code: RU\nDefault Q: adding records: 22555: 307 of 508\n307 of 508: Success!\nEntity ID: 22556 :: Entity Country Code: RU\nDefault Q: adding records: 22556: 308 of 508\n308 of 508: Success!\nEntity ID: 19029 :: Entity Country Code: RU\nDefault Q: adding records: 19029: 309 of 508\n309 of 508: Success!\nEntity ID: 22417 :: Entity Country Code: RU\nDefault Q: adding records: 22417: 310 of 508\n310 of 508: Success!\nEntity ID: 22607 :: Entity Country Code: RU\nEntity ID: 22607 :: Entity Country Code: RU\nEntity ID: 22608 :: Entity Country Code: RU\nDefault Q: adding records: 22608: 313 of 508\n313 of 508: Success!\nEntity ID: 22610 :: Entity Country Code: RU\nDefault Q: adding records: 22610: 314 of 508\n314 of 508: Success!\nEntity ID: 22611 :: Entity Country Code: RU\nDefault Q: adding records: 22611: 315 of 508\n315 of 508: Success!\nEntity ID: 22701 :: Entity Country Code: RU\nDefault Q: adding records: 22701: 316 of 508\n316 of 508: Success!\nEntity ID: 23013 :: Entity Country Code: RU\nDefault Q: adding records: 23013: 317 of 508\n317 of 508: Success!\nEntity ID: 23014 :: Entity Country Code: RU\nDefault Q: adding records: 23014: 318 of 508\n318 of 508: Success!\nEntity ID: 23010 :: Entity Country Code: RU\nDefault Q: adding records: 23010: 319 of 508\n319 of 508: Success!\nEntity ID: 23178 :: Entity Country Code: RU\nDefault Q: adding records: 23178: 320 of 508\n320 of 508: Success!\nEntity ID: 15645 :: Entity Country Code: RU\nDefault Q: adding records: 15645: 321 of 508\n321 of 508: Success!\nEntity ID: 23229 :: Entity Country Code: RU\nEntity ID: 23229 :: Entity Country Code: RU\nDefault Q: adding records: 23229: 323 of 508\n323 of 508: Success!\nEntity ID: 23230 :: Entity Country Code: RU\nDefault Q: adding records: 23230: 324 of 508\n324 of 508: Success!\nEntity ID: 13088 :: Entity Country Code: RU\nDefault Q: adding records: 13088: 325 of 508\n325 of 508: Success!\nEntity ID: 13088 :: Entity Country Code: RU\nEntity ID: 13088 :: Entity Country Code: RU\nDefault Q: adding records: 13088: 327 of 508\n327 of 508: Success!\nEntity ID: 23243 :: Entity Country Code: RU\nDefault Q: adding records: 23243: 328 of 508\n328 of 508: Success!\nEntity ID: 13086 :: Entity Country Code: RU\nDefault Q: adding records: 13086: 329 of 508\n329 of 508: Success!\nEntity ID: 13086 :: Entity Country Code: RU\nEntity ID: 13087 :: Entity Country Code: RU\nDefault Q: adding records: 13087: 331 of 508\n331 of 508: Success!\nEntity ID: 23245 :: Entity Country Code: RU\nDefault Q: adding records: 23245: 332 of 508\n332 of 508: Success!\nEntity ID: 23246 :: Entity Country Code: RU\nDefault Q: adding records: 23246: 333 of 508\n333 of 508: Success!\nEntity ID: 23275 :: Entity Country Code: RU\nDefault Q: adding records: 23275: 334 of 508\n334 of 508: Success!\nEntity ID: 23303 :: Entity Country Code: RU\nEntity ID: 23254 :: Entity Country Code: RU\nDefault Q: adding records: 23254: 336 of 508\n336 of 508: Success!\nEntity ID: 23223 :: Entity Country Code: RU\nDefault Q: adding records: 23223: 337 of 508\n337 of 508: Success!\nEntity ID: 23477 :: Entity Country Code: RU\nDefault Q: adding records: 23477: 338 of 508\n338 of 508: Success!\nEntity ID: 23516 :: Entity Country Code: RU\nDefault Q: adding records: 23516: 339 of 508\n339 of 508: Success!\nEntity ID: 23543 :: Entity Country Code: RU\nDefault Q: adding records: 23543: 340 of 508\n340 of 508: Success!\nEntity ID: 23544 :: Entity Country Code: RU\nDefault Q: adding records: 23544: 341 of 508\n341 of 508: Success!\nEntity ID: 23553 :: Entity Country Code: RU\nDefault Q: adding records: 23553: 342 of 508\n342 of 508: Success!\nEntity ID: 23553 :: Entity Country Code: RU\nEntity ID: 23555 :: Entity Country Code: RU\nDefault Q: adding records: 23555: 344 of 508\n344 of 508: Success!\nEntity ID: 23555 :: Entity Country Code: RU\nDefault Q: adding records: 23555: 345 of 508\n345 of 508: Success!\nEntity ID: 23555 :: Entity Country Code: RU\nEntity ID: 23556 :: Entity Country Code: RU\nDefault Q: adding records: 23556: 347 of 508\n347 of 508: Success!\nEntity ID: 23556 :: Entity Country Code: RU\nDefault Q: adding records: 23556: 348 of 508\n348 of 508: Success!\nEntity ID: 23556 :: Entity Country Code: RU\nEntity ID: 23560 :: Entity Country Code: RU\nDefault Q: adding records: 23560: 350 of 508\n350 of 508: Success!\nEntity ID: 23563 :: Entity Country Code: RU\nEntity ID: 23564 :: Entity Country Code: RU\nEntity ID: 23565 :: Entity Country Code: RU\nDefault Q: adding records: 23565: 353 of 508\n353 of 508: Success!\nEntity ID: 23567 :: Entity Country Code: RU\nDefault Q: adding records: 23567: 354 of 508\n354 of 508: Success!\nEntity ID: 23574 :: Entity Country Code: RU\nDefault Q: adding records: 23574: 355 of 508\n355 of 508: Success!\nEntity ID: 23576 :: Entity Country Code: RU\nDefault Q: adding records: 23576: 356 of 508\n356 of 508: Success!\nEntity ID: 23580 :: Entity Country Code: RU\nDefault Q: adding records: 23580: 357 of 508\n357 of 508: Success!\nEntity ID: 23546 :: Entity Country Code: RU\nDefault Q: adding records: 23546: 358 of 508\n358 of 508: Success!\nEntity ID: 23545 :: Entity Country Code: RU\nDefault Q: adding records: 23545: 359 of 508\n359 of 508: Success!\nEntity ID: 23943 :: Entity Country Code: RU\nDefault Q: adding records: 23943: 360 of 508\n360 of 508: Success!\nEntity ID: 23944 :: Entity Country Code: RU\nDefault Q: adding records: 23944: 361 of 508\n361 of 508: Success!\nEntity ID: 23945 :: Entity Country Code: RU\nDefault Q: adding records: 23945: 362 of 508\n362 of 508: Success!\nEntity ID: 23946 :: Entity Country Code: RU\nDefault Q: adding records: 23946: 363 of 508\n363 of 508: Success!\nEntity ID: 23947 :: Entity Country Code: RU\nDefault Q: adding records: 23947: 364 of 508\n364 of 508: Success!\nEntity ID: 23948 :: Entity Country Code: RU\nDefault Q: adding records: 23948: 365 of 508\n365 of 508: Success!\nEntity ID: 23949 :: Entity Country Code: RU\nDefault Q: adding records: 23949: 366 of 508\n366 of 508: Success!\nEntity ID: 23950 :: Entity Country Code: RU\nDefault Q: adding records: 23950: 367 of 508\n367 of 508: Success!\nEntity ID: 23951 :: Entity Country Code: RU\nDefault Q: adding records: 23951: 368 of 508\n368 of 508: Success!\nEntity ID: 23952 :: Entity Country Code: RU\nDefault Q: adding records: 23952: 369 of 508\n369 of 508: Success!\nEntity ID: 23953 :: Entity Country Code: RU\nDefault Q: adding records: 23953: 370 of 508\n370 of 508: Success!\nEntity ID: 23954 :: Entity Country Code: RU\nDefault Q: adding records: 23954: 371 of 508\n371 of 508: Success!\nEntity ID: 23955 :: Entity Country Code: RU\nDefault Q: adding records: 23955: 372 of 508\n372 of 508: Success!\nEntity ID: 23956 :: Entity Country Code: RU\nDefault Q: adding records: 23956: 373 of 508\n373 of 508: Success!\nEntity ID: 24026 :: Entity Country Code: RU\nEntity ID: 24026 :: Entity Country Code: RU\nEntity ID: 24063 :: Entity Country Code: RU\nDefault Q: adding records: 24063: 376 of 508\n376 of 508: Success!\nEntity ID: 24083 :: Entity Country Code: RU\nDefault Q: adding records: 24083: 377 of 508\n377 of 508: Success!\nEntity ID: 24103 :: Entity Country Code: RU\nDefault Q: adding records: 24103: 378 of 508\n378 of 508: Success!\nEntity ID: 24123 :: Entity Country Code: RU\nDefault Q: adding records: 24123: 379 of 508\n379 of 508: Success!\nEntity ID: 24143 :: Entity Country Code: RU\nDefault Q: adding records: 24143: 380 of 508\n380 of 508: Success!\nEntity ID: 24163 :: Entity Country Code: RU\nDefault Q: adding records: 24163: 381 of 508\n381 of 508: Success!\nEntity ID: 24185 :: Entity Country Code: RU\nEntity ID: 24203 :: Entity Country Code: RU\nDefault Q: adding records: 24203: 383 of 508\n383 of 508: Success!\nEntity ID: 24203 :: Entity Country Code: RU\nEntity ID: 24204 :: Entity Country Code: RU\nDefault Q: adding records: 24204: 385 of 508\n385 of 508: Success!\nEntity ID: 24224 :: Entity Country Code: RU\nDefault Q: adding records: 24224: 386 of 508\n386 of 508: Success!\nEntity ID: 24225 :: Entity Country Code: RU\nDefault Q: adding records: 24225: 387 of 508\n387 of 508: Success!\nEntity ID: 24225 :: Entity Country Code: RU\nEntity ID: 24225 :: Entity Country Code: RU\nDefault Q: adding records: 24225: 389 of 508\n389 of 508: Success!\nEntity ID: 24225 :: Entity Country Code: RU\nEntity ID: 24225 :: Entity Country Code: RU\nEntity ID: 24229 :: Entity Country Code: RU\nDefault Q: adding records: 24229: 392 of 508\n392 of 508: Success!\nEntity ID: 24230 :: Entity Country Code: RU\nDefault Q: adding records: 24230: 393 of 508\n393 of 508: Success!\nEntity ID: 24230 :: Entity Country Code: RU\nDefault Q: adding records: 24230: 394 of 508\n394 of 508: Success!\nEntity ID: 24283 :: Entity Country Code: RU\nDefault Q: adding records: 24283: 395 of 508\n395 of 508: Success!\nEntity ID: 24283 :: Entity Country Code: RU\nDefault Q: adding records: 24283: 396 of 508\n396 of 508: Success!\nEntity ID: 24303 :: Entity Country Code: RU\nDefault Q: adding records: 24303: 397 of 508\n397 of 508: Success!\nEntity ID: 24303 :: Entity Country Code: RU\nDefault Q: adding records: 24303: 398 of 508\n398 of 508: Success!\nEntity ID: 24315 :: Entity Country Code: RU\nDefault Q: adding records: 24315: 399 of 508\n399 of 508: Success!\nEntity ID: 24317 :: Entity Country Code: RU\nDefault Q: adding records: 24317: 400 of 508\n400 of 508: Success!\nEntity ID: 24318 :: Entity Country Code: RU\nDefault Q: adding records: 24318: 401 of 508\n401 of 508: Success!\nEntity ID: 24319 :: Entity Country Code: RU\nDefault Q: adding records: 24319: 402 of 508\n402 of 508: Success!\nEntity ID: 24325 :: Entity Country Code: RU\nDefault Q: adding records: 24325: 403 of 508\n403 of 508: Success!\nEntity ID: 24316 :: Entity Country Code: RU\nDefault Q: adding records: 24316: 404 of 508\n404 of 508: Success!\nEntity ID: 16710 :: Entity Country Code: RU\nDefault Q: adding records: 16710: 405 of 508\n405 of 508: Success!\nEntity ID: 24322 :: Entity Country Code: RU\nDefault Q: adding records: 24322: 406 of 508\n406 of 508: Success!\nEntity ID: 24324 :: Entity Country Code: RU\nDefault Q: adding records: 24324: 407 of 508\n407 of 508: Success!\nEntity ID: 24326 :: Entity Country Code: RU\nDefault Q: adding records: 24326: 408 of 508\n408 of 508: Success!\nEntity ID: 24327 :: Entity Country Code: RU\nDefault Q: adding records: 24327: 409 of 508\n409 of 508: Success!\nEntity ID: 24306 :: Entity Country Code: RU\nDefault Q: adding records: 24306: 410 of 508\n410 of 508: Success!\nEntity ID: 24309 :: Entity Country Code: RU\nDefault Q: adding records: 24309: 411 of 508\n411 of 508: Success!\nEntity ID: 24231 :: Entity Country Code: RU\nDefault Q: adding records: 24231: 412 of 508\n412 of 508: Success!\nEntity ID: 24450 :: Entity Country Code: RU\nEntity ID: 24451 :: Entity Country Code: RU\nEntity ID: 24516 :: Entity Country Code: RU\nDefault Q: adding records: 24516: 415 of 508\n415 of 508: Success!\nEntity ID: 24516 :: Entity Country Code: RU\nDefault Q: adding records: 24516: 416 of 508\n416 of 508: Success!\nEntity ID: 24516 :: Entity Country Code: RU\nDefault Q: adding records: 24516: 417 of 508\n417 of 508: Success!\nEntity ID: 24606 :: Entity Country Code: RU\nEntity ID: 24607 :: Entity Country Code: RU\nDefault Q: adding records: 24607: 419 of 508\n419 of 508: Success!\nEntity ID: 24646 :: Entity Country Code: RU\nDefault Q: adding records: 24646: 420 of 508\n420 of 508: Success!\nEntity ID: 24646 :: Entity Country Code: RU\nDefault Q: adding records: 24646: 421 of 508\n421 of 508: Success!\nEntity ID: 24647 :: Entity Country Code: RU\nEntity ID: 24648 :: Entity Country Code: RU\nDefault Q: adding records: 24648: 423 of 508\n423 of 508: Success!\nEntity ID: 24650 :: Entity Country Code: RU\nDefault Q: adding records: 24650: 424 of 508\n424 of 508: Success!\nEntity ID: 24650 :: Entity Country Code: RU\nDefault Q: adding records: 24650: 425 of 508\n425 of 508: Success!\nEntity ID: 24651 :: Entity Country Code: RU\nDefault Q: adding records: 24651: 426 of 508\n426 of 508: Success!\nEntity ID: 24652 :: Entity Country Code: RU\nDefault Q: adding records: 24652: 427 of 508\n427 of 508: Success!\nEntity ID: 24653 :: Entity Country Code: RU\nDefault Q: adding records: 24653: 428 of 508\n428 of 508: Success!\nEntity ID: 24832 :: Entity Country Code: RU\nDefault Q: adding records: 24832: 429 of 508\n429 of 508: Success!\nEntity ID: 24833 :: Entity Country Code: RU\nDefault Q: adding records: 24833: 430 of 508\n430 of 508: Success!\nEntity ID: 24834 :: Entity Country Code: RU\nDefault Q: adding records: 24834: 431 of 508\n431 of 508: Success!\nEntity ID: 24978 :: Entity Country Code: RU\nEntity ID: 25180 :: Entity Country Code: RU\nDefault Q: adding records: 25180: 433 of 508\n433 of 508: Success!\nEntity ID: 25419 :: Entity Country Code: RU\nDefault Q: adding records: 25419: 434 of 508\n434 of 508: Success!\nEntity ID: 25691 :: Entity Country Code: RU\nEntity ID: 26118 :: Entity Country Code: RU\nDefault Q: adding records: 26118: 436 of 508\n436 of 508: Success!\nEntity ID: 26118 :: Entity Country Code: RU\nDefault Q: adding records: 26118: 437 of 508\n437 of 508: Success!\nEntity ID: 26118 :: Entity Country Code: RU\nDefault Q: adding records: 26118: 438 of 508\n438 of 508: Success!\nEntity ID: 26119 :: Entity Country Code: RU\nDefault Q: adding records: 26119: 439 of 508\n439 of 508: Success!\nEntity ID: 26119 :: Entity Country Code: RU\nDefault Q: adding records: 26119: 440 of 508\n440 of 508: Success!\nEntity ID: 26119 :: Entity Country Code: RU\nDefault Q: adding records: 26119: 441 of 508\n441 of 508: Success!\nEntity ID: 26118 :: Entity Country Code: RU\nEntity ID: 25419 :: Entity Country Code: RU\nDefault Q: adding records: 25419: 443 of 508\n443 of 508: Success!\nEntity ID: 25419 :: Entity Country Code: RU\nEntity ID: 25419 :: Entity Country Code: RU\nEntity ID: 26170 :: Entity Country Code: RU\nDefault Q: adding records: 26170: 446 of 508\n446 of 508: Success!\nEntity ID: 26171 :: Entity Country Code: RU\nDefault Q: adding records: 26171: 447 of 508\n447 of 508: Success!\nEntity ID: 26173 :: Entity Country Code: RU\nDefault Q: adding records: 26173: 448 of 508\n448 of 508: Success!\nEntity ID: 26177 :: Entity Country Code: RU\nDefault Q: adding records: 26177: 449 of 508\n449 of 508: Success!\nEntity ID: 26178 :: Entity Country Code: RU\nDefault Q: adding records: 26178: 450 of 508\n450 of 508: Success!\nEntity ID: 26179 :: Entity Country Code: RU\nDefault Q: adding records: 26179: 451 of 508\n451 of 508: Success!\nEntity ID: 26180 :: Entity Country Code: RU\nDefault Q: adding records: 26180: 452 of 508\n452 of 508: Success!\nEntity ID: 26183 :: Entity Country Code: RU\nDefault Q: adding records: 26183: 453 of 508\n453 of 508: Success!\nEntity ID: 26185 :: Entity Country Code: RU\nDefault Q: adding records: 26185: 454 of 508\n454 of 508: Success!\nEntity ID: 26186 :: Entity Country Code: RU\nDefault Q: adding records: 26186: 455 of 508\n455 of 508: Success!\nEntity ID: 26188 :: Entity Country Code: RU\nDefault Q: adding records: 26188: 456 of 508\n456 of 508: Success!\nEntity ID: 26190 :: Entity Country Code: RU\nDefault Q: adding records: 26190: 457 of 508\n457 of 508: Success!\nEntity ID: 26191 :: Entity Country Code: RU\nDefault Q: adding records: 26191: 458 of 508\n458 of 508: Success!\nEntity ID: 26192 :: Entity Country Code: RU\nDefault Q: adding records: 26192: 459 of 508\n459 of 508: Success!\nEntity ID: 26193 :: Entity Country Code: RU\nDefault Q: adding records: 26193: 460 of 508\n460 of 508: Success!\nEntity ID: 26194 :: Entity Country Code: RU\nKey Error!\nEntity ID: 26230 :: Entity Country Code: RU\nEntity ID: 26231 :: Entity Country Code: RU\nEntity ID: 26232 :: Entity Country Code: RU\nEntity ID: 26232 :: Entity Country Code: RU\nDefault Q: adding records: 26232: 465 of 508\n465 of 508: Success!\nEntity ID: 26233 :: Entity Country Code: RU\nDefault Q: adding records: 26233: 466 of 508\n466 of 508: Success!\nEntity ID: 26234 :: Entity Country Code: RU\nDefault Q: adding records: 26234: 467 of 508\n467 of 508: Success!\nEntity ID: 26234 :: Entity Country Code: RU\nDefault Q: adding records: 26234: 468 of 508\n468 of 508: Success!\nEntity ID: 26235 :: Entity Country Code: RU\nDefault Q: adding records: 26235: 469 of 508\n469 of 508: Success!\nEntity ID: 26503 :: Entity Country Code: RU\nDefault Q: adding records: 26503: 470 of 508\n470 of 508: Success!\nEntity ID: 26509 :: Entity Country Code: RU\nDefault Q: adding records: 26509: 471 of 508\n471 of 508: Success!\nEntity ID: 26510 :: Entity Country Code: RU\nEntity ID: 26512 :: Entity Country Code: RU\nDefault Q: adding records: 26512: 473 of 508\n473 of 508: Success!\nEntity ID: 26513 :: Entity Country Code: RU\nDefault Q: adding records: 26513: 474 of 508\n474 of 508: Success!\nEntity ID: 26517 :: Entity Country Code: RU\nEntity ID: 26663 :: Entity Country Code: RU\nDefault Q: adding records: 26663: 476 of 508\n476 of 508: Success!\nEntity ID: 26664 :: Entity Country Code: RU\nDefault Q: adding records: 26664: 477 of 508\n477 of 508: Success!\nEntity ID: 26665 :: Entity Country Code: RU\nDefault Q: adding records: 26665: 478 of 508\n478 of 508: Success!\nEntity ID: 26666 :: Entity Country Code: RU\nDefault Q: adding records: 26666: 479 of 508\n479 of 508: Success!\nEntity ID: 26668 :: Entity Country Code: RU\nDefault Q: adding records: 26668: 480 of 508\n480 of 508: Success!\nEntity ID: 26670 :: Entity Country Code: RU\nDefault Q: adding records: 26670: 481 of 508\n481 of 508: Success!\nEntity ID: 26672 :: Entity Country Code: RU\nDefault Q: adding records: 26672: 482 of 508\n482 of 508: Success!\nEntity ID: 26673 :: Entity Country Code: RU\nDefault Q: adding records: 26673: 483 of 508\n483 of 508: Success!\nEntity ID: 26674 :: Entity Country Code: RU\nDefault Q: adding records: 26674: 484 of 508\n484 of 508: Success!\nEntity ID: 26678 :: Entity Country Code: RU\nDefault Q: adding records: 26678: 485 of 508\n485 of 508: Success!\nEntity ID: 26680 :: Entity Country Code: RU\nDefault Q: adding records: 26680: 486 of 508\n486 of 508: Success!\nEntity ID: 26681 :: Entity Country Code: RU\nDefault Q: adding records: 26681: 487 of 508\n487 of 508: Success!\nEntity ID: 26682 :: Entity Country Code: RU\nDefault Q: adding records: 26682: 488 of 508\n488 of 508: Success!\nEntity ID: 26683 :: Entity Country Code: RU\nDefault Q: adding records: 26683: 489 of 508\n489 of 508: Success!\nEntity ID: 26684 :: Entity Country Code: RU\nDefault Q: adding records: 26684: 490 of 508\n490 of 508: Success!\nEntity ID: 26685 :: Entity Country Code: RU\nDefault Q: adding records: 26685: 491 of 508\n491 of 508: Success!\nEntity ID: 26686 :: Entity Country Code: RU\nDefault Q: adding records: 26686: 492 of 508\n492 of 508: Success!\nEntity ID: 26687 :: Entity Country Code: RU\nDefault Q: adding records: 26687: 493 of 508\n493 of 508: Success!\nEntity ID: 26725 :: Entity Country Code: RU\nDefault Q: adding records: 26725: 494 of 508\n494 of 508: Success!\nEntity ID: 26744 :: Entity Country Code: RU\nEntity ID: 26724 :: Entity Country Code: RU\nDefault Q: adding records: 26724: 496 of 508\n496 of 508: Success!\nEntity ID: 26723 :: Entity Country Code: RU\nDefault Q: adding records: 26723: 497 of 508\n497 of 508: Success!\nEntity ID: 26722 :: Entity Country Code: RU\nDefault Q: adding records: 26722: 498 of 508\n498 of 508: Success!\nEntity ID: 23943 :: Entity Country Code: RU\nEntity ID: 23943 :: Entity Country Code: RU\nEntity ID: 23943 :: Entity Country Code: RU\nEntity ID: 23943 :: Entity Country Code: RU\nDefault Q: adding records: 23943: 502 of 508\n502 of 508: Success!\nEntity ID: 27083 :: Entity Country Code: RU\nDefault Q: adding records: 27083: 503 of 508\n503 of 508: Success!\nEntity ID: 27084 :: Entity Country Code: RU\nDefault Q: adding records: 27084: 504 of 508\n504 of 508: Success!\nEntity ID: 27143 :: Entity Country Code: RU\nDefault Q: adding records: 27143: 505 of 508\n505 of 508: Success!\nEntity ID: 26671 :: Entity Country Code: RU\nDefault Q: adding records: 26671: 506 of 508\n506 of 508: Success!\nEntity ID: 26667 :: Entity Country Code: RU\nDefault Q: adding records: 26667: 507 of 508\n507 of 508: Success!\nEntity ID: 26669 :: Entity Country Code: RU\nDefault Q: adding records: 26669: 508 of 508\n508 of 508: Success!\n"
    }
   ],
   "source": [
    "## Starting over with the api call.\n",
    "base_url = r'http://api.positionstack.com/v1/forward?access_key='\n",
    "key = r'09a8d95720e74715ce80c81cf554891a'\n",
    "# There are a few things getting in the way of collecting as many lat/long coordinate pairs. First, not all entries have complete records. We pre filtered all the ones where we couldn't get any info at all. This guarantees we will always have country level info for our query. So we have four possible outcomes collected into three logical statements:\n",
    "#1 No query info (street adress level) AND No Region Info\n",
    "#2 No query Info OR No Region Info\n",
    "#3 Have all Info\n",
    "geocoded_returns = []\n",
    "i = 0\n",
    "k = len(geocode_complete)\n",
    "for address in geocode_complete:\n",
    "    # This is going to get nasty: This bit deals with missing fields\n",
    "    i +=1\n",
    "    query_clause = f'{address[\"query\"]}'\n",
    "    region_clause = f'{address[\"region\"]}'\n",
    "    country_code_clause = f'&country={address[\"code\"]}'\n",
    "    optional_clause = '&country_module=1&limit=1'\n",
    "    optional_country_clause = f'{address[\"country\"]}'   \n",
    "   \n",
    "    if address[\"query\"] == \"-0- \" and address[\"region\"] == \"-0- \":\n",
    "        query_url = f'{base_url}{key}&query={optional_country_clause}{country_code_clause}{optional_clause}'\n",
    "    \n",
    "    elif address[\"query\"] == \"-0- \" and address[\"region\"] != \"-0- \":\n",
    "        query_url = f'{base_url}{key}&query={region_clause}{country_code_clause}{optional_clause}'\n",
    "    \n",
    "    elif address[\"query\"] != \"-0- \" and address[\"region\"] == \"-0- \":\n",
    "         query_url = f'{base_url}{key}&query={query_clause}{country_code_clause}{optional_clause}'\n",
    "\n",
    "    else:\n",
    "        query_url = f'{base_url}{key}&query={query_clause}&region={region_clause}{country_code_clause}{optional_clause}'\n",
    "    \n",
    "\n",
    "    print(f'Entity ID: {address[\"ent_num\"]} :: Entity Country Code: {address[\"code\"]}')\n",
    "    returns = requests.get(query_url)\n",
    "    \n",
    "# This ugly bit trys another query to get any kind of data\n",
    " \n",
    "    try:\n",
    "        if len(returns.json()['data'])==0 and address['region']!='-0- ' and address['query']!='-0- ':\n",
    "            query_url = f'{base_url}{key}&query={region_clause}{country_code_clause}{optional_clause}'\n",
    "            returns = requests.get(query_url)\n",
    "        elif len(returns.json()['data'])==0 and address['query']!='-0- ' and address['region']=='-0- ':\n",
    "            query_url = f'{base_url}{key}&query={optional_country_clause}{country_code_clause}{optional_clause}'\n",
    "            returns = requests.get(query_url)\n",
    "            try:\n",
    "                print(f'QOLR: adding records: {address[\"ent_num\"]}')\n",
    "                #print(query_url)\n",
    "                geocoded_returns.append((address[\"ent_num\"],address[\"SDN_Name\"],address[\"SDN_Type\"],address[\"Program\"],returns.json()['data'][0]['latitude'],returns.json()['data'][0]['longitude']))\n",
    "                print(f'{i} of {k}: Success!')\n",
    "            except IndexError:\n",
    "                print('Index Error!')\n",
    "                print(query_url)\n",
    "                pass\n",
    "        else:\n",
    "            try:\n",
    "                print(f'Default Q: adding records: {address[\"ent_num\"]}: {i} of {k}')\n",
    "                if len(returns.json()['data'])!=0:\n",
    "                    geocoded_returns.append((address[\"ent_num\"],address[\"SDN_Name\"],address[\"SDN_Type\"],address[\"Program\"],returns.json()['data'][0]['latitude'],returns.json()['data'][0]['longitude']))\n",
    "                print(f'{i} of {k}: Success!')\n",
    "                \n",
    "            except IndexError:\n",
    "                print('Index Error!')\n",
    "                print(query_url)\n",
    "                pass\n",
    "    except KeyError:\n",
    "        print('Key Error!')\n",
    "        pass\n",
    "        continue\n",
    "    "
   ]
  },
  {
   "cell_type": "code",
   "execution_count": 22,
   "metadata": {},
   "outputs": [],
   "source": [
    "gcr_df = pd.DataFrame.from_records(geocoded_returns, columns=[\"ent_num\",\"SDN_Name\",\"SDN_Type\",\"Program\",\"lat\",\"lng\"])\n",
    "geocoded_returns\n",
    "gcr_df\n",
    "gcr_df.to_json('data/russian_final.json', orient='values', index=True)\n"
   ]
  }
 ]
}